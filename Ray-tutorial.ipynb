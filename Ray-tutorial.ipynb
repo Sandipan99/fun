{
 "cells": [
  {
   "cell_type": "code",
   "execution_count": 1,
   "id": "d1320e40",
   "metadata": {},
   "outputs": [
    {
     "name": "stderr",
     "output_type": "stream",
     "text": [
      "2023-01-11 17:12:03,097\tINFO worker.py:1538 -- Started a local Ray instance.\n"
     ]
    },
    {
     "data": {
      "text/html": [
       "<div class=\"tuneStatus\">\n",
       "  <div style=\"display: flex;flex-direction: row\">\n",
       "    <div style=\"display: flex;flex-direction: column;\">\n",
       "      <h3>Tune Status</h3>\n",
       "      <table>\n",
       "<tbody>\n",
       "<tr><td>Current time:</td><td>2023-01-11 17:12:18</td></tr>\n",
       "<tr><td>Running for: </td><td>00:00:09.02        </td></tr>\n",
       "<tr><td>Memory:      </td><td>13.7/47.2 GiB      </td></tr>\n",
       "</tbody>\n",
       "</table>\n",
       "    </div>\n",
       "    <div class=\"vDivider\"></div>\n",
       "    <div class=\"systemInfo\">\n",
       "      <h3>System Info</h3>\n",
       "      Using FIFO scheduling algorithm.<br>Resources requested: 0/16 CPUs, 0/0 GPUs, 0.0/20.92 GiB heap, 0.0/10.46 GiB objects\n",
       "    </div>\n",
       "    \n",
       "  </div>\n",
       "  <div class=\"hDivider\"></div>\n",
       "  <div class=\"trialStatus\">\n",
       "    <h3>Trial Status</h3>\n",
       "    <table>\n",
       "<thead>\n",
       "<tr><th>Trial name           </th><th>status    </th><th>loc            </th><th style=\"text-align: right;\">    a</th><th style=\"text-align: right;\">  b</th><th style=\"text-align: right;\">  iter</th><th style=\"text-align: right;\">  total time (s)</th><th style=\"text-align: right;\">  score</th></tr>\n",
       "</thead>\n",
       "<tbody>\n",
       "<tr><td>objective_b1b87_00000</td><td>TERMINATED</td><td>127.0.0.1:11416</td><td style=\"text-align: right;\">0.001</td><td style=\"text-align: right;\">  1</td><td style=\"text-align: right;\">     1</td><td style=\"text-align: right;\">     0.000991344</td><td style=\"text-align: right;\"> 1     </td></tr>\n",
       "<tr><td>objective_b1b87_00001</td><td>TERMINATED</td><td>127.0.0.1:12032</td><td style=\"text-align: right;\">0.01 </td><td style=\"text-align: right;\">  2</td><td style=\"text-align: right;\">     1</td><td style=\"text-align: right;\">     0.00200033 </td><td style=\"text-align: right;\"> 2.0001</td></tr>\n",
       "<tr><td>objective_b1b87_00002</td><td>TERMINATED</td><td>127.0.0.1:2608 </td><td style=\"text-align: right;\">0.1  </td><td style=\"text-align: right;\">  2</td><td style=\"text-align: right;\">     1</td><td style=\"text-align: right;\">     0          </td><td style=\"text-align: right;\"> 2.01  </td></tr>\n",
       "<tr><td>objective_b1b87_00003</td><td>TERMINATED</td><td>127.0.0.1:20228</td><td style=\"text-align: right;\">1    </td><td style=\"text-align: right;\">  1</td><td style=\"text-align: right;\">     1</td><td style=\"text-align: right;\">     0.00101018 </td><td style=\"text-align: right;\"> 2     </td></tr>\n",
       "</tbody>\n",
       "</table>\n",
       "  </div>\n",
       "</div>\n",
       "<style>\n",
       ".tuneStatus {\n",
       "  color: var(--jp-ui-font-color1);\n",
       "}\n",
       ".tuneStatus .systemInfo {\n",
       "  display: flex;\n",
       "  flex-direction: column;\n",
       "}\n",
       ".tuneStatus td {\n",
       "  white-space: nowrap;\n",
       "}\n",
       ".tuneStatus .trialStatus {\n",
       "  display: flex;\n",
       "  flex-direction: column;\n",
       "}\n",
       ".tuneStatus h3 {\n",
       "  font-weight: bold;\n",
       "}\n",
       ".tuneStatus .hDivider {\n",
       "  border-bottom-width: var(--jp-border-width);\n",
       "  border-bottom-color: var(--jp-border-color0);\n",
       "  border-bottom-style: solid;\n",
       "}\n",
       ".tuneStatus .vDivider {\n",
       "  border-left-width: var(--jp-border-width);\n",
       "  border-left-color: var(--jp-border-color0);\n",
       "  border-left-style: solid;\n",
       "  margin: 0.5em 1em 0.5em 1em;\n",
       "}\n",
       "</style>\n"
      ],
      "text/plain": [
       "<IPython.core.display.HTML object>"
      ]
     },
     "metadata": {},
     "output_type": "display_data"
    },
    {
     "data": {
      "text/html": [
       "<div class=\"trialProgress\">\n",
       "  <h3>Trial Progress</h3>\n",
       "  <table>\n",
       "<thead>\n",
       "<tr><th>Trial name           </th><th>date               </th><th>done  </th><th>episodes_total  </th><th>experiment_id                   </th><th>experiment_tag  </th><th>hostname       </th><th style=\"text-align: right;\">  iterations_since_restore</th><th>node_ip  </th><th style=\"text-align: right;\">  pid</th><th style=\"text-align: right;\">  score</th><th style=\"text-align: right;\">  time_since_restore</th><th style=\"text-align: right;\">  time_this_iter_s</th><th style=\"text-align: right;\">  time_total_s</th><th style=\"text-align: right;\">  timestamp</th><th style=\"text-align: right;\">  timesteps_since_restore</th><th>timesteps_total  </th><th style=\"text-align: right;\">  training_iteration</th><th>trial_id   </th><th style=\"text-align: right;\">  warmup_time</th></tr>\n",
       "</thead>\n",
       "<tbody>\n",
       "<tr><td>objective_b1b87_00000</td><td>2023-01-11_17-12-13</td><td>True  </td><td>                </td><td>0644947c8006415ab358d61c72e8ad05</td><td>0_a=0.0010,b=1  </td><td>LAPTOP-7VUL2UFI</td><td style=\"text-align: right;\">                         1</td><td>127.0.0.1</td><td style=\"text-align: right;\">11416</td><td style=\"text-align: right;\"> 1     </td><td style=\"text-align: right;\">         0.000991344</td><td style=\"text-align: right;\">       0.000991344</td><td style=\"text-align: right;\">   0.000991344</td><td style=\"text-align: right;\"> 1673453533</td><td style=\"text-align: right;\">                        0</td><td>                 </td><td style=\"text-align: right;\">                   1</td><td>b1b87_00000</td><td style=\"text-align: right;\">   0.00500941</td></tr>\n",
       "<tr><td>objective_b1b87_00001</td><td>2023-01-11_17-12-17</td><td>True  </td><td>                </td><td>d988cb58d4b1499b9281ca3c2aeb7f62</td><td>1_a=0.0100,b=2  </td><td>LAPTOP-7VUL2UFI</td><td style=\"text-align: right;\">                         1</td><td>127.0.0.1</td><td style=\"text-align: right;\">12032</td><td style=\"text-align: right;\"> 2.0001</td><td style=\"text-align: right;\">         0.00200033 </td><td style=\"text-align: right;\">       0.00200033 </td><td style=\"text-align: right;\">   0.00200033 </td><td style=\"text-align: right;\"> 1673453537</td><td style=\"text-align: right;\">                        0</td><td>                 </td><td style=\"text-align: right;\">                   1</td><td>b1b87_00001</td><td style=\"text-align: right;\">   0.0060997 </td></tr>\n",
       "<tr><td>objective_b1b87_00002</td><td>2023-01-11_17-12-18</td><td>True  </td><td>                </td><td>d03427aed7ef4082b45bdf942c00101c</td><td>2_a=0.1000,b=2  </td><td>LAPTOP-7VUL2UFI</td><td style=\"text-align: right;\">                         1</td><td>127.0.0.1</td><td style=\"text-align: right;\"> 2608</td><td style=\"text-align: right;\"> 2.01  </td><td style=\"text-align: right;\">         0          </td><td style=\"text-align: right;\">       0          </td><td style=\"text-align: right;\">   0          </td><td style=\"text-align: right;\"> 1673453538</td><td style=\"text-align: right;\">                        0</td><td>                 </td><td style=\"text-align: right;\">                   1</td><td>b1b87_00002</td><td style=\"text-align: right;\">   0.00600719</td></tr>\n",
       "<tr><td>objective_b1b87_00003</td><td>2023-01-11_17-12-17</td><td>True  </td><td>                </td><td>e20dae91df704ccea200bcc59dfb32a8</td><td>3_a=1.0000,b=1  </td><td>LAPTOP-7VUL2UFI</td><td style=\"text-align: right;\">                         1</td><td>127.0.0.1</td><td style=\"text-align: right;\">20228</td><td style=\"text-align: right;\"> 2     </td><td style=\"text-align: right;\">         0.00101018 </td><td style=\"text-align: right;\">       0.00101018 </td><td style=\"text-align: right;\">   0.00101018 </td><td style=\"text-align: right;\"> 1673453537</td><td style=\"text-align: right;\">                        0</td><td>                 </td><td style=\"text-align: right;\">                   1</td><td>b1b87_00003</td><td style=\"text-align: right;\">   0.00631642</td></tr>\n",
       "</tbody>\n",
       "</table>\n",
       "</div>\n",
       "<style>\n",
       ".trialProgress {\n",
       "  display: flex;\n",
       "  flex-direction: column;\n",
       "  color: var(--jp-ui-font-color1);\n",
       "}\n",
       ".trialProgress h3 {\n",
       "  font-weight: bold;\n",
       "}\n",
       ".trialProgress td {\n",
       "  white-space: nowrap;\n",
       "}\n",
       "</style>\n"
      ],
      "text/plain": [
       "<IPython.core.display.HTML object>"
      ]
     },
     "metadata": {},
     "output_type": "display_data"
    },
    {
     "name": "stderr",
     "output_type": "stream",
     "text": [
      "2023-01-11 17:12:18,230\tINFO tune.py:762 -- Total run time: 11.29 seconds (9.00 seconds for the tuning loop).\n"
     ]
    },
    {
     "name": "stdout",
     "output_type": "stream",
     "text": [
      "{'a': 0.001, 'b': 1}\n"
     ]
    }
   ],
   "source": [
    "from ray import tune\n",
    "\n",
    "# 1. Define an objective function.\n",
    "def objective(config):\n",
    "    score = config[\"a\"] ** 2 + config[\"b\"]\n",
    "    return {\"score\": score}\n",
    "\n",
    "\n",
    "# 2. Define a search space.\n",
    "search_space = {\n",
    "    \"a\": tune.grid_search([0.001, 0.01, 0.1, 1.0]),\n",
    "    \"b\": tune.choice([1, 2, 3]),\n",
    "}\n",
    "\n",
    "# 3. Start a Tune run and print the best result.\n",
    "tuner = tune.Tuner(objective, param_space=search_space)\n",
    "results = tuner.fit()\n",
    "print(results.get_best_result(metric=\"score\", mode=\"min\").config)"
   ]
  },
  {
   "cell_type": "code",
   "execution_count": 1,
   "id": "80727c75",
   "metadata": {},
   "outputs": [],
   "source": [
    "import torch\n",
    "from ray import tune, air\n",
    "from ray.air import session\n",
    "from ray.tune.search.optuna import OptunaSearch"
   ]
  },
  {
   "cell_type": "code",
   "execution_count": 2,
   "id": "3dae3133",
   "metadata": {},
   "outputs": [],
   "source": [
    "import torch.nn as nn\n",
    "from torch.optim import SGD"
   ]
  },
  {
   "cell_type": "code",
   "execution_count": 3,
   "id": "65f22ec2",
   "metadata": {},
   "outputs": [],
   "source": [
    "class Model(nn.Module):\n",
    "    def __init__(self, inp_size, hidden_size, out_size):\n",
    "        super().__init__()\n",
    "        self.i2h = nn.Linear(inp_size, hidden_size)\n",
    "        self.h2h = nn.Linear(hidden_size, hidden_size)\n",
    "        self.h2o = nn.Linear(hidden_size, out_size)\n",
    "        self.sigmoid = nn.LogSigmoid()\n",
    "    \n",
    "    def forward(self, inp):\n",
    "        x = self.i2h(inp)\n",
    "        x = self.sigmoid(x)\n",
    "        x = self.h2h(x)\n",
    "        x = self.sigmoid(x)\n",
    "        x = self.h2o(x)\n",
    "        return x"
   ]
  },
  {
   "cell_type": "code",
   "execution_count": null,
   "id": "82893df8",
   "metadata": {},
   "outputs": [],
   "source": []
  }
 ],
 "metadata": {
  "kernelspec": {
   "display_name": "Python 3 (ipykernel)",
   "language": "python",
   "name": "python3"
  },
  "language_info": {
   "codemirror_mode": {
    "name": "ipython",
    "version": 3
   },
   "file_extension": ".py",
   "mimetype": "text/x-python",
   "name": "python",
   "nbconvert_exporter": "python",
   "pygments_lexer": "ipython3",
   "version": "3.9.12"
  }
 },
 "nbformat": 4,
 "nbformat_minor": 5
}
