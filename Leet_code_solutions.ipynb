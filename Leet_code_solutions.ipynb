{
 "cells": [
  {
   "cell_type": "code",
   "execution_count": 9,
   "metadata": {},
   "outputs": [],
   "source": [
    "def binary_search(lst, target, left, right):\n",
    "    m = int((left+right)/2)\n",
    "    if m<0 or m>len(lst)-1:\n",
    "        return False\n",
    "    elif lst[m] == target:\n",
    "        return True\n",
    "    elif lst[m]>target:\n",
    "        return binary_search(lst, target, left, m-1)\n",
    "    else:\n",
    "        return binary_search(lst, target, m+1, right)\n"
   ]
  },
  {
   "cell_type": "code",
   "execution_count": 12,
   "metadata": {},
   "outputs": [
    {
     "data": {
      "text/plain": [
       "False"
      ]
     },
     "execution_count": 12,
     "metadata": {},
     "output_type": "execute_result"
    }
   ],
   "source": [
    "binary_search([1,2,3,4,5,6,7,8], 9, 0, 8)"
   ]
  },
  {
   "cell_type": "code",
   "execution_count": 16,
   "metadata": {},
   "outputs": [],
   "source": [
    "# problem 1:\n",
    "# Two sum: Given an array of integers nums and an integer target, return indices of the two numbers \n",
    "#such that they add up to target.\n",
    "def twoSum(self, nums, target):\n",
    "    d = {}\n",
    "    for i, num in enumerate(nums):\n",
    "        if num in d:\n",
    "            return [d[num], i]\n",
    "        else:\n",
    "            d[target-num] = i"
   ]
  },
  {
   "cell_type": "code",
   "execution_count": 17,
   "metadata": {},
   "outputs": [],
   "source": [
    "# problem 3\n",
    "# Longest subsequence without repeating characters\n",
    "def lengthOfLongestSubstring(s):\n",
    "    q = {}\n",
    "    start, max_len = 0,0\n",
    "    for i,ch in enumerate(s):\n",
    "        if ch in q and q[ch]>=start:\n",
    "            start = q[ch]+1\n",
    "        else:\n",
    "            max_len = max(max_len, i-start+1)\n",
    "        q[ch] = i    \n",
    "\n",
    "    return max_len"
   ]
  },
  {
   "cell_type": "code",
   "execution_count": 18,
   "metadata": {},
   "outputs": [],
   "source": [
    "# problem 4\n",
    "# Median of Two Sorted Arrays\n",
    "def median(A, B):\n",
    "    m, n = len(A), len(B)\n",
    "    if m > n:\n",
    "        A, B, m, n = B, A, n, m\n",
    "    if n == 0:\n",
    "        raise ValueError\n",
    "\n",
    "    imin, imax, half_len = 0, m, (m + n + 1) / 2\n",
    "    while imin <= imax:\n",
    "        i = (imin + imax) / 2\n",
    "        j = half_len - i\n",
    "        if i < m and B[j-1] > A[i]:\n",
    "            # i is too small, must increase it\n",
    "            imin = i + 1\n",
    "        elif i > 0 and A[i-1] > B[j]:\n",
    "            # i is too big, must decrease it\n",
    "            imax = i - 1\n",
    "        else:\n",
    "            # i is perfect\n",
    "\n",
    "            if i == 0: max_of_left = B[j-1]\n",
    "            elif j == 0: max_of_left = A[i-1]\n",
    "            else: max_of_left = max(A[i-1], B[j-1])\n",
    "\n",
    "            if (m + n) % 2 == 1:\n",
    "                return max_of_left\n",
    "\n",
    "            if i == m: min_of_right = B[j]\n",
    "            elif j == n: min_of_right = A[i]\n",
    "            else: min_of_right = min(A[i], B[j])\n",
    "\n",
    "            return (max_of_left + min_of_right) / 2.0"
   ]
  },
  {
   "cell_type": "code",
   "execution_count": 19,
   "metadata": {},
   "outputs": [],
   "source": [
    "# Problem 5\n",
    "# Longest palindromic sequence\n",
    "def longestPalindrome(s):\n",
    "        l_pal = ''\n",
    "        # looking for even-sized palindrome\n",
    "        for i in range(len(s)-1):\n",
    "            if s[i]==s[i+1]:\n",
    "                j = 0\n",
    "                while i-j>=0 and i+1+j<len(s):\n",
    "                    if s[i-j]==s[i+j+1]:\n",
    "                        p_s = s[i-j:i+j+2]\n",
    "                        if len(p_s)>len(l_pal):\n",
    "                            l_pal = p_s\n",
    "                    else:\n",
    "                        break\n",
    "                    \n",
    "                    j+=1\n",
    "        # looking for odd-sized palindrome\n",
    "        for i in range(len(s)):\n",
    "            j = 0\n",
    "            while i-j>=0 and i+j<len(s):\n",
    "                if s[i-j]==s[i+j]:\n",
    "                    p_s = s[i-j:i+j+1]\n",
    "                    if len(p_s)>len(l_pal):\n",
    "                        l_pal = p_s\n",
    "                else:\n",
    "                    break\n",
    "                j+=1\n",
    "        return l_pal "
   ]
  },
  {
   "cell_type": "code",
   "execution_count": null,
   "metadata": {},
   "outputs": [],
   "source": []
  }
 ],
 "metadata": {
  "kernelspec": {
   "display_name": "Python 3",
   "language": "python",
   "name": "python3"
  },
  "language_info": {
   "codemirror_mode": {
    "name": "ipython",
    "version": 3
   },
   "file_extension": ".py",
   "mimetype": "text/x-python",
   "name": "python",
   "nbconvert_exporter": "python",
   "pygments_lexer": "ipython3",
   "version": "3.8.3"
  }
 },
 "nbformat": 4,
 "nbformat_minor": 4
}
